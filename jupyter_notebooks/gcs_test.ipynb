{
 "cells": [
  {
   "cell_type": "markdown",
   "metadata": {
    "id": "fSJRxZOkbBxu"
   },
   "source": [
    "# This is an implementation for computing Collision Free Regions in Configuration Space using IRIS\n",
    "\n",
    "[IRIS in Configuration Space](https://drake.mit.edu/doxygen_cxx/group__geometry__optimization.html#ga3a51e0fec449a0abcf498f78a2a390a8)\n",
    "\n",
    "\n",
    "This notebook contains code for creating, visualizing and saving such regions."
   ]
  },
  {
   "cell_type": "code",
   "execution_count": null,
   "metadata": {
    "id": "jjNSIbRubBx1"
   },
   "outputs": [
    {
     "ename": "ModuleNotFoundError",
     "evalue": "No module named 'src'",
     "output_type": "error",
     "traceback": [
      "\u001b[0;31m---------------------------------------------------------------------------\u001b[0m",
      "\u001b[0;31mModuleNotFoundError\u001b[0m                       Traceback (most recent call last)",
      "Cell \u001b[0;32mIn[2], line 9\u001b[0m\n\u001b[1;32m      6\u001b[0m \u001b[38;5;28;01mfrom\u001b[39;00m\u001b[38;5;250m \u001b[39m\u001b[38;5;21;01mpydrake\u001b[39;00m\u001b[38;5;21;01m.\u001b[39;00m\u001b[38;5;21;01mgeometry\u001b[39;00m\u001b[38;5;21;01m.\u001b[39;00m\u001b[38;5;21;01moptimization\u001b[39;00m\u001b[38;5;250m \u001b[39m\u001b[38;5;28;01mimport\u001b[39;00m ( SaveIrisRegionsYamlFile)\n\u001b[1;32m      8\u001b[0m \u001b[38;5;66;03m# Update the import\u001b[39;00m\n\u001b[0;32m----> 9\u001b[0m \u001b[38;5;28;01mfrom\u001b[39;00m\u001b[38;5;250m \u001b[39m\u001b[38;5;21;01msrc\u001b[39;00m\u001b[38;5;21;01m.\u001b[39;00m\u001b[38;5;21;01mmanipulation\u001b[39;00m\u001b[38;5;250m \u001b[39m\u001b[38;5;28;01mimport\u001b[39;00m running_as_notebook\n\u001b[1;32m     10\u001b[0m \u001b[38;5;28;01mfrom\u001b[39;00m\u001b[38;5;250m \u001b[39m\u001b[38;5;21;01msrc\u001b[39;00m\u001b[38;5;21;01m.\u001b[39;00m\u001b[38;5;21;01mauxiliar\u001b[39;00m\u001b[38;5;21;01m.\u001b[39;00m\u001b[38;5;21;01mauxiliar_functions\u001b[39;00m\u001b[38;5;250m \u001b[39m\u001b[38;5;28;01mimport\u001b[39;00m (VisualizeConnectivity)\n\u001b[1;32m     11\u001b[0m \u001b[38;5;28;01mfrom\u001b[39;00m\u001b[38;5;250m \u001b[39m\u001b[38;5;21;01msrc\u001b[39;00m\u001b[38;5;21;01m.\u001b[39;00m\u001b[38;5;21;01mauxiliar\u001b[39;00m\u001b[38;5;21;01m.\u001b[39;00m\u001b[38;5;21;01mhomemade_gcs\u001b[39;00m\u001b[38;5;250m \u001b[39m\u001b[38;5;28;01mimport\u001b[39;00m GcsTrajOpt\n",
      "\u001b[0;31mModuleNotFoundError\u001b[0m: No module named 'src'"
     ]
    }
   ],
   "source": [
    "import os.path\n",
    "import sys\n",
    "import numpy as np\n",
    "\n",
    "from pydrake.geometry import ( StartMeshcat )\n",
    "from pydrake.geometry.optimization import ( SaveIrisRegionsYamlFile)\n",
    "\n",
    "# add parent folders to path\n",
    "sys.path.append(os.path.abspath('..'))\n",
    "\n",
    "# Update the import\n",
    "from src.manipulation import running_as_notebook\n",
    "from src.auxiliar.auxiliar_functions import (VisualizeConnectivity)\n",
    "from src.auxiliar.homemade_gcs import GcsTrajOpt\n",
    "from src.auxiliar.iris_options import create_iris_options\n",
    "from src.auxiliar.joint_teleop import JointTeleop\n",
    "from src.auxiliar.helper import VisualizeRegions"
   ]
  },
  {
   "cell_type": "code",
   "execution_count": null,
   "metadata": {
    "id": "M4QeeEF9bBx4"
   },
   "outputs": [],
   "source": [
    "# Start the visualizer (only run this once).\n",
    "meshcat = StartMeshcat()\n"
   ]
  },
  {
   "cell_type": "code",
   "execution_count": null,
   "metadata": {
    "id": "JMypwJJJca_1"
   },
   "outputs": [],
   "source": [
    "# Create a tunnel to the Meshcat server\n",
    "ngrok.set_auth_token(\"2rdws4UBYTqZ1NiiyEbJcWRnByV_7D9Jg8K3YVyZzbFMN1ysg\")\n",
    "public_url = ngrok.connect(7000, \"http\")\n",
    "print(f\"Meshcat is accessible at: {public_url}\")"
   ]
  },
  {
   "cell_type": "markdown",
   "metadata": {
    "id": "dGS6AuZTbBx5"
   },
   "source": [
    "# Setup\n",
    "\n"
   ]
  },
  {
   "cell_type": "code",
   "execution_count": null,
   "metadata": {
    "id": "G4y1LQp5bBx6"
   },
   "outputs": [],
   "source": [
    "iris_filename = \"/content/drive/MyDrive/proyecto_modular/autonomous-manipulation/data/my_iris.yaml\" # The file to save the regions to\n",
    "iris_regions = dict() # The regions that we will compute\n",
    "q = []\n",
    "\n",
    "iris_options, config = create_iris_options() # Create the options for the iris algorithm"
   ]
  },
  {
   "cell_type": "markdown",
   "metadata": {
    "id": "28BbqYixbBx6"
   },
   "source": [
    "## Run IRIS on manually-specified seeds"
   ]
  },
  {
   "cell_type": "code",
   "execution_count": null,
   "metadata": {
    "colab": {
     "base_uri": "https://localhost:8080/"
    },
    "executionInfo": {
     "elapsed": 161,
     "status": "ok",
     "timestamp": 1737062937791,
     "user": {
      "displayName": "HAREL ARATH HERNANDEZ AMEZCUA",
      "userId": "16374506728272450130"
     },
     "user_tz": 360
    },
    "id": "qCXzpeWibBx8",
    "outputId": "dac75d53-2a99-424d-fc0d-82be6f082624"
   },
   "outputs": [
    {
     "name": "stdout",
     "output_type": "stream",
     "text": [
      "dict_keys([])\n"
     ]
    }
   ],
   "source": [
    "# VisualizeRegion(\"Top Rack\")\n",
    "print(config[\"iris_regions\"].keys())\n",
    "iris_regions = config[\"iris_regions\"]\n",
    "VisualizeRegions(meshcat, iris_regions, config)"
   ]
  },
  {
   "cell_type": "markdown",
   "metadata": {
    "id": "ptSdio4ybBx9"
   },
   "source": [
    "## Joint Teleop"
   ]
  },
  {
   "cell_type": "code",
   "execution_count": 9,
   "metadata": {
    "colab": {
     "base_uri": "https://localhost:8080/",
     "height": 336
    },
    "executionInfo": {
     "elapsed": 5625529,
     "status": "ok",
     "timestamp": 1737074503213,
     "user": {
      "displayName": "HAREL ARATH HERNANDEZ AMEZCUA",
      "userId": "16374506728272450130"
     },
     "user_tz": 360
    },
    "id": "e5L9OWGLbBx9",
    "outputId": "42aedf0c-4a58-4381-c2b4-cd8ef8e1b46b"
   },
   "outputs": [
    {
     "name": "stdout",
     "output_type": "stream",
     "text": [
      "Press the 'Stop Joint Teleop' button in Meshcat to continue or press 'Escape'\n"
     ]
    },
    {
     "data": {
      "application/vnd.google.colaboratory.intrinsic+json": {
       "type": "string"
      },
      "text/plain": [
       "'Computing region for seed: JointTeleopRegion0'"
      ]
     },
     "metadata": {},
     "output_type": "display_data"
    },
    {
     "name": "stderr",
     "output_type": "stream",
     "text": [
      "INFO:drake:IrisInConfigurationSpace iteration 0\n",
      "INFO:drake:IrisInConfigurationSpace iteration 1\n",
      "INFO:drake:IrisInConfigurationSpace: terminating iterations because the seed point is no longer in the region.\n"
     ]
    },
    {
     "data": {
      "application/vnd.google.colaboratory.intrinsic+json": {
       "type": "string"
      },
      "text/plain": [
       "'Finished seed JointTeleopRegion0; Computation time: 5.10 seconds'"
      ]
     },
     "metadata": {},
     "output_type": "display_data"
    },
    {
     "data": {
      "application/vnd.google.colaboratory.intrinsic+json": {
       "type": "string"
      },
      "text/plain": [
       "'Computing region for seed: JointTeleopRegion1'"
      ]
     },
     "metadata": {},
     "output_type": "display_data"
    },
    {
     "name": "stderr",
     "output_type": "stream",
     "text": [
      "INFO:drake:IrisInConfigurationSpace iteration 0\n",
      "INFO:drake:IrisInConfigurationSpace iteration 1\n",
      "INFO:drake:IrisInConfigurationSpace iteration 2\n",
      "INFO:drake:IrisInConfigurationSpace iteration 3\n",
      "INFO:drake:IrisInConfigurationSpace iteration 4\n",
      "INFO:drake:IrisInConfigurationSpace iteration 5\n",
      "INFO:drake:IrisInConfigurationSpace iteration 6\n",
      "INFO:drake:IrisInConfigurationSpace iteration 7\n",
      "INFO:drake:IrisInConfigurationSpace: Terminating because the hyperellipsoid relative volume change 0.002994088523189715 is below the threshold 0.01.\n"
     ]
    },
    {
     "data": {
      "application/vnd.google.colaboratory.intrinsic+json": {
       "type": "string"
      },
      "text/plain": [
       "'Finished seed JointTeleopRegion1; Computation time: 86.43 seconds'"
      ]
     },
     "metadata": {},
     "output_type": "display_data"
    }
   ],
   "source": [
    "# clear the meshcat visualizer\n",
    "meshcat.Delete()\n",
    "meshcat.DeleteAddedControls()\n",
    "\n",
    "seeds_joint_teleop = []\n",
    "JointTeleop(meshcat, seeds_joint_teleop, config[\"iris_regions\"], config, q)"
   ]
  },
  {
   "cell_type": "markdown",
   "metadata": {
    "id": "I8W5SUoDbBx-"
   },
   "source": [
    "## Visualize the current IRIS region connectivity\n",
    "\n",
    "For planning trajectories, it's important to have some non-empty intersection between the convex sets. Here is a simple utility the visualization the connectivity as a graph."
   ]
  },
  {
   "cell_type": "code",
   "execution_count": 14,
   "metadata": {
    "colab": {
     "base_uri": "https://localhost:8080/",
     "height": 176
    },
    "executionInfo": {
     "elapsed": 172,
     "status": "ok",
     "timestamp": 1737074557344,
     "user": {
      "displayName": "HAREL ARATH HERNANDEZ AMEZCUA",
      "userId": "16374506728272450130"
     },
     "user_tz": 360
    },
    "id": "oTIK-OeCbBx-",
    "outputId": "e4db2be2-d238-4076-9848-6dea2f5738d2"
   },
   "outputs": [
    {
     "data": {
      "image/svg+xml": [
       "<svg xmlns=\"http://www.w3.org/2000/svg\" xmlns:xlink=\"http://www.w3.org/1999/xlink\" width=\"170pt\" height=\"116pt\" viewBox=\"0.00 0.00 170.49 116.00\">\n",
       "<g id=\"graph0\" class=\"graph\" transform=\"scale(1 1) rotate(0) translate(4 112)\">\n",
       "<title>IRIS region connectivity</title>\n",
       "<polygon fill=\"white\" stroke=\"transparent\" points=\"-4,4 -4,-112 166.49,-112 166.49,4 -4,4\"/>\n",
       "<!-- JointTeleopRegion0 -->\n",
       "<g id=\"node1\" class=\"node\">\n",
       "<title>JointTeleopRegion0</title>\n",
       "<ellipse fill=\"none\" stroke=\"black\" cx=\"81.24\" cy=\"-90\" rx=\"81.49\" ry=\"18\"/>\n",
       "<text text-anchor=\"middle\" x=\"81.24\" y=\"-86.3\" font-family=\"Times,serif\" font-size=\"14.00\">JointTeleopRegion0</text>\n",
       "</g>\n",
       "<!-- JointTeleopRegion1 -->\n",
       "<g id=\"node2\" class=\"node\">\n",
       "<title>JointTeleopRegion1</title>\n",
       "<ellipse fill=\"none\" stroke=\"black\" cx=\"81.24\" cy=\"-18\" rx=\"81.49\" ry=\"18\"/>\n",
       "<text text-anchor=\"middle\" x=\"81.24\" y=\"-14.3\" font-family=\"Times,serif\" font-size=\"14.00\">JointTeleopRegion1</text>\n",
       "</g>\n",
       "<!-- JointTeleopRegion0&#45;&gt;JointTeleopRegion1 -->\n",
       "<g id=\"edge1\" class=\"edge\">\n",
       "<title>JointTeleopRegion0-&gt;JointTeleopRegion1</title>\n",
       "<path fill=\"none\" stroke=\"black\" d=\"M81.24,-61.67C81.24,-56.69 81.24,-51.49 81.24,-46.51\"/>\n",
       "<polygon fill=\"black\" stroke=\"black\" points=\"77.74,-61.7 81.24,-71.7 84.74,-61.7 77.74,-61.7\"/>\n",
       "<polygon fill=\"black\" stroke=\"black\" points=\"84.74,-46.1 81.24,-36.1 77.74,-46.1 84.74,-46.1\"/>\n",
       "</g>\n",
       "</g>\n",
       "</svg>"
      ],
      "text/plain": [
       "<IPython.core.display.SVG object>"
      ]
     },
     "metadata": {},
     "output_type": "display_data"
    }
   ],
   "source": [
    "VisualizeConnectivity(config['iris_regions'])"
   ]
  },
  {
   "cell_type": "code",
   "execution_count": 13,
   "metadata": {
    "colab": {
     "base_uri": "https://localhost:8080/"
    },
    "executionInfo": {
     "elapsed": 214,
     "status": "ok",
     "timestamp": 1737074553710,
     "user": {
      "displayName": "HAREL ARATH HERNANDEZ AMEZCUA",
      "userId": "16374506728272450130"
     },
     "user_tz": 360
    },
    "id": "JwyB1G8cNo3M",
    "outputId": "b763af16-19e6-49ed-b914-d723c624480b"
   },
   "outputs": [
    {
     "name": "stdout",
     "output_type": "stream",
     "text": [
      "[array([ 1.24, -1.22, -1.16,  0.  ,  0.  ,  0.  ,  0.  ,  0.  ]), array([-1.57, -1.22, -1.16,  0.  ,  0.  ,  0.  ,  0.  ,  0.  ])]\n"
     ]
    }
   ],
   "source": [
    "print(seeds_joint_teleop)"
   ]
  },
  {
   "cell_type": "markdown",
   "metadata": {
    "id": "ZMfMCzXNbBx_"
   },
   "source": [
    "## Plan trajectories with GCS Trajectory Optimization"
   ]
  },
  {
   "cell_type": "code",
   "execution_count": 12,
   "metadata": {
    "colab": {
     "base_uri": "https://localhost:8080/"
    },
    "executionInfo": {
     "elapsed": 1344,
     "status": "ok",
     "timestamp": 1737074548761,
     "user": {
      "displayName": "HAREL ARATH HERNANDEZ AMEZCUA",
      "userId": "16374506728272450130"
     },
     "user_tz": 360
    },
    "id": "S5yd41azbBx_",
    "outputId": "e2c61473-563b-48f1-f8ca-4f6b74b686e6"
   },
   "outputs": [
    {
     "name": "stderr",
     "output_type": "stream",
     "text": [
      "INFO:drake:Solved GCS shortest path using Clp with convex_relaxation=true and preprocessing=true and rounding.\n",
      "INFO:drake:Found 1 unique paths, discarded 99 duplicate paths.\n",
      "INFO:drake:Finished 1 rounding solutions with Clp.\n"
     ]
    },
    {
     "name": "stdout",
     "output_type": "stream",
     "text": [
      "GCS solved in 0.026342153549194336 seconds\n",
      "running animation\n"
     ]
    }
   ],
   "source": [
    "# clear the meshcat visualizer\n",
    "meshcat.Delete()\n",
    "meshcat.DeleteAddedControls()\n",
    "\n",
    "assert (\n",
    "    seeds_joint_teleop\n",
    "), \"The examples here use the 'manually-specified seeds' from the section above. Please run that section first, or populate your own start and end configurations.\"\n",
    "\n",
    "GcsTrajOpt(seeds_joint_teleop[0], seeds_joint_teleop[1],config[\"iris_regions\"], meshcat)"
   ]
  },
  {
   "cell_type": "markdown",
   "metadata": {
    "id": "5L4abJDlbByA"
   },
   "source": [
    "# Save your regions back to disk\n",
    "\n",
    "Note that by default, this notebook will autosave a backup after making each region."
   ]
  },
  {
   "cell_type": "code",
   "execution_count": null,
   "metadata": {
    "id": "6cTqZuYKbByA"
   },
   "outputs": [],
   "source": [
    "if running_as_notebook:\n",
    "    SaveIrisRegionsYamlFile(iris_filename, iris_regions)"
   ]
  }
 ],
 "metadata": {
  "colab": {
   "provenance": []
  },
  "deepnote_notebook_id": "dccdd285410a4ada97783fa20facfdf4",
  "kernelspec": {
   "display_name": "Python (drake_venv)",
   "language": "python",
   "name": "myenv"
  },
  "language_info": {
   "codemirror_mode": {
    "name": "ipython",
    "version": 3
   },
   "file_extension": ".py",
   "mimetype": "text/x-python",
   "name": "python",
   "nbconvert_exporter": "python",
   "pygments_lexer": "ipython3",
   "version": "3.12.3"
  }
 },
 "nbformat": 4,
 "nbformat_minor": 0
}
