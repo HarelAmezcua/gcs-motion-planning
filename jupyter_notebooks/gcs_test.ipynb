{
 "cells": [
  {
   "cell_type": "markdown",
   "metadata": {
    "id": "fSJRxZOkbBxu"
   },
   "source": [
    "# This is an implementation for computing Collision Free Regions in Configuration Space using IRIS\n",
    "\n",
    "[IRIS in Configuration Space](https://drake.mit.edu/doxygen_cxx/group__geometry__optimization.html#ga3a51e0fec449a0abcf498f78a2a390a8)\n",
    "\n",
    "\n",
    "This notebook contains code for creating, visualizing and saving such regions."
   ]
  },
  {
   "cell_type": "code",
   "execution_count": 1,
   "metadata": {
    "id": "jjNSIbRubBx1"
   },
   "outputs": [],
   "source": [
    "import os.path\n",
    "import sys\n",
    "import numpy as np\n",
    "\n",
    "from pydrake.geometry import ( StartMeshcat )\n",
    "from pydrake.geometry.optimization import ( SaveIrisRegionsYamlFile)\n",
    "\n",
    "# add parent folders to path\n",
    "sys.path.append(os.path.abspath('..'))\n",
    "\n",
    "# Update the import\n",
    "from src.manipulation import running_as_notebook\n",
    "from src.auxiliar.auxiliar_functions import (VisualizeConnectivity)\n",
    "from src.auxiliar.homemade_gcs import GcsTrajOpt\n",
    "from src.auxiliar.iris_options import create_iris_options\n",
    "from src.auxiliar.joint_teleop import JointTeleop\n",
    "from src.auxiliar.helper import VisualizeRegions"
   ]
  },
  {
   "cell_type": "code",
   "execution_count": 2,
   "metadata": {
    "id": "M4QeeEF9bBx4"
   },
   "outputs": [
    {
     "name": "stderr",
     "output_type": "stream",
     "text": [
      "INFO:drake:Meshcat listening for connections at http://localhost:7000\n"
     ]
    }
   ],
   "source": [
    "# Start the visualizer (only run this once).\n",
    "meshcat = StartMeshcat()"
   ]
  },
  {
   "cell_type": "markdown",
   "metadata": {
    "id": "dGS6AuZTbBx5"
   },
   "source": [
    "# Setup\n",
    "\n"
   ]
  },
  {
   "cell_type": "code",
   "execution_count": 3,
   "metadata": {
    "id": "G4y1LQp5bBx6"
   },
   "outputs": [],
   "source": [
    "# Get the absolute path of the current working directory\n",
    "current_dir = os.getcwd()\n",
    "parent_dir = os.path.abspath(os.path.join(current_dir, os.pardir))\n",
    "data_folder = os.path.join(parent_dir, 'data')\n",
    "\n",
    "iris_filename = os.path.join(data_folder, 'my_iris.yaml')  # The file to save the regions to\n",
    "\n",
    "iris_regions = dict() # The regions that we will compute\n",
    "\n",
    "q = []\n",
    "\n",
    "iris_options, config = create_iris_options() # Create the options for the iris algorithm"
   ]
  },
  {
   "cell_type": "markdown",
   "metadata": {
    "id": "28BbqYixbBx6"
   },
   "source": [
    "## Run IRIS on manually-specified seeds"
   ]
  },
  {
   "cell_type": "code",
   "execution_count": 4,
   "metadata": {
    "colab": {
     "base_uri": "https://localhost:8080/"
    },
    "executionInfo": {
     "elapsed": 161,
     "status": "ok",
     "timestamp": 1737062937791,
     "user": {
      "displayName": "HAREL ARATH HERNANDEZ AMEZCUA",
      "userId": "16374506728272450130"
     },
     "user_tz": 360
    },
    "id": "qCXzpeWibBx8",
    "outputId": "dac75d53-2a99-424d-fc0d-82be6f082624"
   },
   "outputs": [
    {
     "name": "stdout",
     "output_type": "stream",
     "text": [
      "dict_keys([])\n"
     ]
    }
   ],
   "source": [
    "print(config[\"iris_regions\"].keys())\n",
    "iris_regions = config[\"iris_regions\"]\n",
    "VisualizeRegions(meshcat, iris_regions, config)"
   ]
  },
  {
   "cell_type": "markdown",
   "metadata": {
    "id": "ptSdio4ybBx9"
   },
   "source": [
    "## Joint Teleop"
   ]
  },
  {
   "cell_type": "code",
   "execution_count": 5,
   "metadata": {
    "colab": {
     "base_uri": "https://localhost:8080/",
     "height": 336
    },
    "executionInfo": {
     "elapsed": 5625529,
     "status": "ok",
     "timestamp": 1737074503213,
     "user": {
      "displayName": "HAREL ARATH HERNANDEZ AMEZCUA",
      "userId": "16374506728272450130"
     },
     "user_tz": 360
    },
    "id": "e5L9OWGLbBx9",
    "outputId": "42aedf0c-4a58-4381-c2b4-cd8ef8e1b46b"
   },
   "outputs": [
    {
     "name": "stderr",
     "output_type": "stream",
     "text": [
      "INFO:drake:PackageMap: Downloading https://github.com/RobotLocomotion/models/archive/43a7e91dde0f8193ccbbdc6a0e49faf7a1aaeefc.tar.gz\n"
     ]
    },
    {
     "ename": "RuntimeError",
     "evalue": "//home/harel/github/gcs-motion-planning/common-files/models/KINOVA_GEN3_LITE/model.sdf:8: error: URI 'package://drake_models/KINOVA_GEN3_LITE/meshes/base_link.obj' resolved to '/home/harel/.cache/drake/package_map/fc4a2817d9f26ef119da8d5ae994af472a5a13edddd62a75bb5373fb4bf3a4cc-cf3a1ff5ed0155a6c84509dcb9ff2f786fd2e3eb0f109ca828574ebf9b1d0118/KINOVA_GEN3_LITE/meshes/base_link.obj' which does not exist.",
     "output_type": "error",
     "traceback": [
      "\u001b[0;31m---------------------------------------------------------------------------\u001b[0m",
      "\u001b[0;31mRuntimeError\u001b[0m                              Traceback (most recent call last)",
      "Cell \u001b[0;32mIn[5], line 6\u001b[0m\n\u001b[1;32m      3\u001b[0m meshcat\u001b[38;5;241m.\u001b[39mDeleteAddedControls()\n\u001b[1;32m      5\u001b[0m seeds_joint_teleop \u001b[38;5;241m=\u001b[39m []\n\u001b[0;32m----> 6\u001b[0m \u001b[43mJointTeleop\u001b[49m\u001b[43m(\u001b[49m\u001b[43mmeshcat\u001b[49m\u001b[43m,\u001b[49m\u001b[43m \u001b[49m\u001b[43mseeds_joint_teleop\u001b[49m\u001b[43m,\u001b[49m\u001b[43m \u001b[49m\u001b[43mconfig\u001b[49m\u001b[43m[\u001b[49m\u001b[38;5;124;43m\"\u001b[39;49m\u001b[38;5;124;43miris_regions\u001b[39;49m\u001b[38;5;124;43m\"\u001b[39;49m\u001b[43m]\u001b[49m\u001b[43m,\u001b[49m\u001b[43m \u001b[49m\u001b[43mconfig\u001b[49m\u001b[43m,\u001b[49m\u001b[43m \u001b[49m\u001b[43mq\u001b[49m\u001b[43m)\u001b[49m\n",
      "File \u001b[0;32m~/github/gcs-motion-planning/src/auxiliar/joint_teleop.py:62\u001b[0m, in \u001b[0;36mJointTeleop\u001b[0;34m(meshcat, seeds_joint_teleop, iris_regions, config, q)\u001b[0m\n\u001b[1;32m     59\u001b[0m builder \u001b[38;5;241m=\u001b[39m DiagramBuilder()\n\u001b[1;32m     61\u001b[0m plant, scene_graph \u001b[38;5;241m=\u001b[39m AddMultibodyPlantSceneGraph(builder, time_step\u001b[38;5;241m=\u001b[39m\u001b[38;5;241m0.0\u001b[39m)\n\u001b[0;32m---> 62\u001b[0m \u001b[43mLoadRobot\u001b[49m\u001b[43m(\u001b[49m\u001b[43mplant\u001b[49m\u001b[43m)\u001b[49m\n\u001b[1;32m     63\u001b[0m plant\u001b[38;5;241m.\u001b[39mFinalize()\n\u001b[1;32m     65\u001b[0m sliders \u001b[38;5;241m=\u001b[39m builder\u001b[38;5;241m.\u001b[39mAddSystem(JointSliders(meshcat, plant))\n",
      "File \u001b[0;32m~/github/gcs-motion-planning/src/auxiliar/auxiliar_functions.py:22\u001b[0m, in \u001b[0;36mLoadRobot\u001b[0;34m(plant)\u001b[0m\n\u001b[1;32m     18\u001b[0m \u001b[38;5;28;01mdef\u001b[39;00m\u001b[38;5;250m \u001b[39m\u001b[38;5;21mLoadRobot\u001b[39m(plant: MultibodyPlant) \u001b[38;5;241m-\u001b[39m\u001b[38;5;241m>\u001b[39m Body:\n\u001b[1;32m     19\u001b[0m \u001b[38;5;250m    \u001b[39m\u001b[38;5;124;03m\"\"\"Setup your plant, and return the body corresponding to your\u001b[39;00m\n\u001b[1;32m     20\u001b[0m \u001b[38;5;124;03m    end-effector.\"\"\"\u001b[39;00m\n\u001b[0;32m---> 22\u001b[0m     robot_model \u001b[38;5;241m=\u001b[39m \u001b[43madd_custom_robot\u001b[49m\u001b[43m(\u001b[49m\u001b[43mplant\u001b[49m\u001b[43m)\u001b[49m[\u001b[38;5;241m0\u001b[39m]\n\u001b[1;32m     23\u001b[0m     gripper_model \u001b[38;5;241m=\u001b[39m add_custom_wsg(plant)[\u001b[38;5;241m0\u001b[39m]\n\u001b[1;32m     24\u001b[0m     table_model \u001b[38;5;241m=\u001b[39m add_table(plant)[\u001b[38;5;241m0\u001b[39m]\n",
      "File \u001b[0;32m~/github/gcs-motion-planning/src/auxiliar/importing_objects.py:32\u001b[0m, in \u001b[0;36madd_custom_robot\u001b[0;34m(plant)\u001b[0m\n\u001b[1;32m     29\u001b[0m     \u001b[38;5;28;01mraise\u001b[39;00m \u001b[38;5;167;01mFileNotFoundError\u001b[39;00m(\u001b[38;5;124mf\u001b[39m\u001b[38;5;124m\"\u001b[39m\u001b[38;5;124mSDF file not found at \u001b[39m\u001b[38;5;132;01m{\u001b[39;00msdf_path\u001b[38;5;132;01m}\u001b[39;00m\u001b[38;5;124m\"\u001b[39m)\n\u001b[1;32m     31\u001b[0m parser \u001b[38;5;241m=\u001b[39m Parser(plant)\n\u001b[0;32m---> 32\u001b[0m robot_model \u001b[38;5;241m=\u001b[39m \u001b[43mparser\u001b[49m\u001b[38;5;241;43m.\u001b[39;49m\u001b[43mAddModels\u001b[49m\u001b[43m(\u001b[49m\u001b[43msdf_path\u001b[49m\u001b[43m)\u001b[49m\n\u001b[1;32m     33\u001b[0m plant\u001b[38;5;241m.\u001b[39mWeldFrames(plant\u001b[38;5;241m.\u001b[39mworld_frame(), plant\u001b[38;5;241m.\u001b[39mGetFrameByName(\u001b[38;5;124m\"\u001b[39m\u001b[38;5;124mBASE\u001b[39m\u001b[38;5;124m\"\u001b[39m))\n\u001b[1;32m     34\u001b[0m \u001b[38;5;28;01mreturn\u001b[39;00m robot_model\n",
      "\u001b[0;31mRuntimeError\u001b[0m: //home/harel/github/gcs-motion-planning/common-files/models/KINOVA_GEN3_LITE/model.sdf:8: error: URI 'package://drake_models/KINOVA_GEN3_LITE/meshes/base_link.obj' resolved to '/home/harel/.cache/drake/package_map/fc4a2817d9f26ef119da8d5ae994af472a5a13edddd62a75bb5373fb4bf3a4cc-cf3a1ff5ed0155a6c84509dcb9ff2f786fd2e3eb0f109ca828574ebf9b1d0118/KINOVA_GEN3_LITE/meshes/base_link.obj' which does not exist."
     ]
    }
   ],
   "source": [
    "# clear the meshcat visualizer\n",
    "meshcat.Delete()\n",
    "meshcat.DeleteAddedControls()\n",
    "\n",
    "seeds_joint_teleop = []\n",
    "JointTeleop(meshcat, seeds_joint_teleop, config[\"iris_regions\"], config, q)"
   ]
  },
  {
   "cell_type": "markdown",
   "metadata": {
    "id": "I8W5SUoDbBx-"
   },
   "source": [
    "## Visualize the current IRIS region connectivity\n",
    "\n",
    "For planning trajectories, it's important to have some non-empty intersection between the convex sets. Here is a simple utility the visualization the connectivity as a graph."
   ]
  },
  {
   "cell_type": "code",
   "execution_count": null,
   "metadata": {
    "colab": {
     "base_uri": "https://localhost:8080/",
     "height": 176
    },
    "executionInfo": {
     "elapsed": 172,
     "status": "ok",
     "timestamp": 1737074557344,
     "user": {
      "displayName": "HAREL ARATH HERNANDEZ AMEZCUA",
      "userId": "16374506728272450130"
     },
     "user_tz": 360
    },
    "id": "oTIK-OeCbBx-",
    "outputId": "e4db2be2-d238-4076-9848-6dea2f5738d2"
   },
   "outputs": [],
   "source": [
    "VisualizeConnectivity(config['iris_regions'])"
   ]
  },
  {
   "cell_type": "code",
   "execution_count": null,
   "metadata": {
    "colab": {
     "base_uri": "https://localhost:8080/"
    },
    "executionInfo": {
     "elapsed": 214,
     "status": "ok",
     "timestamp": 1737074553710,
     "user": {
      "displayName": "HAREL ARATH HERNANDEZ AMEZCUA",
      "userId": "16374506728272450130"
     },
     "user_tz": 360
    },
    "id": "JwyB1G8cNo3M",
    "outputId": "b763af16-19e6-49ed-b914-d723c624480b"
   },
   "outputs": [],
   "source": [
    "print(seeds_joint_teleop)"
   ]
  },
  {
   "cell_type": "markdown",
   "metadata": {
    "id": "ZMfMCzXNbBx_"
   },
   "source": [
    "## Plan trajectories with GCS Trajectory Optimization"
   ]
  },
  {
   "cell_type": "code",
   "execution_count": null,
   "metadata": {
    "colab": {
     "base_uri": "https://localhost:8080/"
    },
    "executionInfo": {
     "elapsed": 1344,
     "status": "ok",
     "timestamp": 1737074548761,
     "user": {
      "displayName": "HAREL ARATH HERNANDEZ AMEZCUA",
      "userId": "16374506728272450130"
     },
     "user_tz": 360
    },
    "id": "S5yd41azbBx_",
    "outputId": "e2c61473-563b-48f1-f8ca-4f6b74b686e6"
   },
   "outputs": [],
   "source": [
    "# clear the meshcat visualizer\n",
    "meshcat.Delete()\n",
    "meshcat.DeleteAddedControls()\n",
    "\n",
    "assert (\n",
    "    seeds_joint_teleop\n",
    "), \"The examples here use the 'manually-specified seeds' from the section above. Please run that section first, or populate your own start and end configurations.\"\n",
    "\n",
    "GcsTrajOpt(seeds_joint_teleop[0], seeds_joint_teleop[1],config[\"iris_regions\"], meshcat)"
   ]
  },
  {
   "cell_type": "markdown",
   "metadata": {
    "id": "5L4abJDlbByA"
   },
   "source": [
    "# Save your regions back to disk\n",
    "\n",
    "Note that by default, this notebook will autosave a backup after making each region."
   ]
  },
  {
   "cell_type": "code",
   "execution_count": null,
   "metadata": {
    "id": "6cTqZuYKbByA"
   },
   "outputs": [],
   "source": [
    "if running_as_notebook:\n",
    "    SaveIrisRegionsYamlFile(iris_filename, iris_regions)"
   ]
  }
 ],
 "metadata": {
  "colab": {
   "provenance": []
  },
  "deepnote_notebook_id": "dccdd285410a4ada97783fa20facfdf4",
  "kernelspec": {
   "display_name": "Python (drake_venv)",
   "language": "python",
   "name": "myenv"
  },
  "language_info": {
   "codemirror_mode": {
    "name": "ipython",
    "version": 3
   },
   "file_extension": ".py",
   "mimetype": "text/x-python",
   "name": "python",
   "nbconvert_exporter": "python",
   "pygments_lexer": "ipython3",
   "version": "3.12.3"
  }
 },
 "nbformat": 4,
 "nbformat_minor": 0
}
