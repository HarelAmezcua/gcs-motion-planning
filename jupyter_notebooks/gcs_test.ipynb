{
 "cells": [
  {
   "cell_type": "markdown",
   "metadata": {
    "id": "fSJRxZOkbBxu"
   },
   "source": [
    "# This is an implementation for computing Collision Free Regions in Configuration Space using IRIS\n",
    "\n",
    "[IRIS in Configuration Space](https://drake.mit.edu/doxygen_cxx/group__geometry__optimization.html#ga3a51e0fec449a0abcf498f78a2a390a8)\n",
    "\n",
    "\n",
    "This notebook contains code for creating, visualizing and saving such regions."
   ]
  },
  {
   "cell_type": "code",
   "execution_count": 3,
   "metadata": {
    "id": "jjNSIbRubBx1"
   },
   "outputs": [],
   "source": [
    "import os.path\n",
    "import sys\n",
    "import numpy as np\n",
    "\n",
    "from pydrake.geometry import ( StartMeshcat )\n",
    "from pydrake.geometry.optimization import ( SaveIrisRegionsYamlFile)\n",
    "\n",
    "# add parent folders to path\n",
    "sys.path.append(os.path.abspath('..'))\n",
    "\n",
    "# Update the import\n",
    "from src.manipulation import running_as_notebook\n",
    "from src.auxiliar.auxiliar_functions import (VisualizeConnectivity)\n",
    "from src.auxiliar.homemade_gcs import GcsTrajOpt\n",
    "from src.auxiliar.iris_options import create_iris_options\n",
    "from src.auxiliar.joint_teleop import JointTeleop\n",
    "from src.auxiliar.helper import VisualizeRegions"
   ]
  },
  {
   "cell_type": "code",
   "execution_count": null,
   "metadata": {
    "id": "M4QeeEF9bBx4"
   },
   "outputs": [],
   "source": [
    "# Start the visualizer (only run this once).\n",
    "meshcat = StartMeshcat()"
   ]
  },
  {
   "cell_type": "markdown",
   "metadata": {
    "id": "dGS6AuZTbBx5"
   },
   "source": [
    "# Setup\n",
    "\n"
   ]
  },
  {
   "cell_type": "code",
   "execution_count": null,
   "metadata": {
    "id": "G4y1LQp5bBx6"
   },
   "outputs": [],
   "source": [
    "# Get the absolute path of the current working directory\n",
    "current_dir = os.getcwd()\n",
    "data_folder = os.path.join(current_dir, 'data')\n",
    "\n",
    "iris_filename = os.path.join(data_folder, 'my_iris.yaml')  # The file to save the regions to\n",
    "\n",
    "iris_regions = dict() # The regions that we will compute\n",
    "\n",
    "q = []\n",
    "\n",
    "iris_options, config = create_iris_options() # Create the options for the iris algorithm"
   ]
  },
  {
   "cell_type": "markdown",
   "metadata": {
    "id": "28BbqYixbBx6"
   },
   "source": [
    "## Run IRIS on manually-specified seeds"
   ]
  },
  {
   "cell_type": "code",
   "execution_count": null,
   "metadata": {
    "colab": {
     "base_uri": "https://localhost:8080/"
    },
    "executionInfo": {
     "elapsed": 161,
     "status": "ok",
     "timestamp": 1737062937791,
     "user": {
      "displayName": "HAREL ARATH HERNANDEZ AMEZCUA",
      "userId": "16374506728272450130"
     },
     "user_tz": 360
    },
    "id": "qCXzpeWibBx8",
    "outputId": "dac75d53-2a99-424d-fc0d-82be6f082624"
   },
   "outputs": [],
   "source": [
    "# VisualizeRegion(\"Top Rack\")\n",
    "print(config[\"iris_regions\"].keys())\n",
    "iris_regions = config[\"iris_regions\"]\n",
    "VisualizeRegions(meshcat, iris_regions, config)"
   ]
  },
  {
   "cell_type": "markdown",
   "metadata": {
    "id": "ptSdio4ybBx9"
   },
   "source": [
    "## Joint Teleop"
   ]
  },
  {
   "cell_type": "code",
   "execution_count": null,
   "metadata": {
    "colab": {
     "base_uri": "https://localhost:8080/",
     "height": 336
    },
    "executionInfo": {
     "elapsed": 5625529,
     "status": "ok",
     "timestamp": 1737074503213,
     "user": {
      "displayName": "HAREL ARATH HERNANDEZ AMEZCUA",
      "userId": "16374506728272450130"
     },
     "user_tz": 360
    },
    "id": "e5L9OWGLbBx9",
    "outputId": "42aedf0c-4a58-4381-c2b4-cd8ef8e1b46b"
   },
   "outputs": [],
   "source": [
    "# clear the meshcat visualizer\n",
    "meshcat.Delete()\n",
    "meshcat.DeleteAddedControls()\n",
    "\n",
    "seeds_joint_teleop = []\n",
    "JointTeleop(meshcat, seeds_joint_teleop, config[\"iris_regions\"], config, q)"
   ]
  },
  {
   "cell_type": "markdown",
   "metadata": {
    "id": "I8W5SUoDbBx-"
   },
   "source": [
    "## Visualize the current IRIS region connectivity\n",
    "\n",
    "For planning trajectories, it's important to have some non-empty intersection between the convex sets. Here is a simple utility the visualization the connectivity as a graph."
   ]
  },
  {
   "cell_type": "code",
   "execution_count": null,
   "metadata": {
    "colab": {
     "base_uri": "https://localhost:8080/",
     "height": 176
    },
    "executionInfo": {
     "elapsed": 172,
     "status": "ok",
     "timestamp": 1737074557344,
     "user": {
      "displayName": "HAREL ARATH HERNANDEZ AMEZCUA",
      "userId": "16374506728272450130"
     },
     "user_tz": 360
    },
    "id": "oTIK-OeCbBx-",
    "outputId": "e4db2be2-d238-4076-9848-6dea2f5738d2"
   },
   "outputs": [],
   "source": [
    "VisualizeConnectivity(config['iris_regions'])"
   ]
  },
  {
   "cell_type": "code",
   "execution_count": null,
   "metadata": {
    "colab": {
     "base_uri": "https://localhost:8080/"
    },
    "executionInfo": {
     "elapsed": 214,
     "status": "ok",
     "timestamp": 1737074553710,
     "user": {
      "displayName": "HAREL ARATH HERNANDEZ AMEZCUA",
      "userId": "16374506728272450130"
     },
     "user_tz": 360
    },
    "id": "JwyB1G8cNo3M",
    "outputId": "b763af16-19e6-49ed-b914-d723c624480b"
   },
   "outputs": [],
   "source": [
    "print(seeds_joint_teleop)"
   ]
  },
  {
   "cell_type": "markdown",
   "metadata": {
    "id": "ZMfMCzXNbBx_"
   },
   "source": [
    "## Plan trajectories with GCS Trajectory Optimization"
   ]
  },
  {
   "cell_type": "code",
   "execution_count": null,
   "metadata": {
    "colab": {
     "base_uri": "https://localhost:8080/"
    },
    "executionInfo": {
     "elapsed": 1344,
     "status": "ok",
     "timestamp": 1737074548761,
     "user": {
      "displayName": "HAREL ARATH HERNANDEZ AMEZCUA",
      "userId": "16374506728272450130"
     },
     "user_tz": 360
    },
    "id": "S5yd41azbBx_",
    "outputId": "e2c61473-563b-48f1-f8ca-4f6b74b686e6"
   },
   "outputs": [],
   "source": [
    "# clear the meshcat visualizer\n",
    "meshcat.Delete()\n",
    "meshcat.DeleteAddedControls()\n",
    "\n",
    "assert (\n",
    "    seeds_joint_teleop\n",
    "), \"The examples here use the 'manually-specified seeds' from the section above. Please run that section first, or populate your own start and end configurations.\"\n",
    "\n",
    "GcsTrajOpt(seeds_joint_teleop[0], seeds_joint_teleop[1],config[\"iris_regions\"], meshcat)"
   ]
  },
  {
   "cell_type": "markdown",
   "metadata": {
    "id": "5L4abJDlbByA"
   },
   "source": [
    "# Save your regions back to disk\n",
    "\n",
    "Note that by default, this notebook will autosave a backup after making each region."
   ]
  },
  {
   "cell_type": "code",
   "execution_count": null,
   "metadata": {
    "id": "6cTqZuYKbByA"
   },
   "outputs": [],
   "source": [
    "if running_as_notebook:\n",
    "    SaveIrisRegionsYamlFile(iris_filename, iris_regions)"
   ]
  }
 ],
 "metadata": {
  "colab": {
   "provenance": []
  },
  "deepnote_notebook_id": "dccdd285410a4ada97783fa20facfdf4",
  "kernelspec": {
   "display_name": "Python (drake_venv)",
   "language": "python",
   "name": "myenv"
  },
  "language_info": {
   "codemirror_mode": {
    "name": "ipython",
    "version": 3
   },
   "file_extension": ".py",
   "mimetype": "text/x-python",
   "name": "python",
   "nbconvert_exporter": "python",
   "pygments_lexer": "ipython3",
   "version": "3.12.3"
  }
 },
 "nbformat": 4,
 "nbformat_minor": 0
}
